{
  "nbformat": 4,
  "nbformat_minor": 0,
  "metadata": {
    "colab": {
      "name": "and.ipynb",
      "provenance": [],
      "authorship_tag": "ABX9TyMruhvV7btEhaWlybAGYhFA",
      "include_colab_link": true
    },
    "kernelspec": {
      "name": "python3",
      "display_name": "Python 3"
    }
  },
  "cells": [
    {
      "cell_type": "markdown",
      "metadata": {
        "id": "view-in-github",
        "colab_type": "text"
      },
      "source": [
        "<a href=\"https://colab.research.google.com/github/aso1801022/AI_teach2020/blob/master/and.ipynb\" target=\"_parent\"><img src=\"https://colab.research.google.com/assets/colab-badge.svg\" alt=\"Open In Colab\"/></a>"
      ]
    },
    {
      "cell_type": "code",
      "metadata": {
        "id": "YaUzpxNDS8xt"
      },
      "source": [
        ""
      ],
      "execution_count": null,
      "outputs": []
    },
    {
      "cell_type": "markdown",
      "metadata": {
        "id": "ZBQ7nVo4TWsw"
      },
      "source": [
        "##AND演算をモデルに学ばせる（LinearSVC）"
      ]
    },
    {
      "cell_type": "code",
      "metadata": {
        "id": "TQHnpzaOTf-E"
      },
      "source": [
        "#sclit-learnを使うためインポートする\n",
        "from sklearn.svm import LinearSVC #線形SVCのオブジェクト\n",
        "from sklearn.metrics import accuracy_score #結果を表示するためのオブジェクト"
      ],
      "execution_count": 1,
      "outputs": []
    },
    {
      "cell_type": "markdown",
      "metadata": {
        "id": "5D7gfduRT_nR"
      },
      "source": [
        "##学習のためのデータを用意する"
      ]
    },
    {
      "cell_type": "code",
      "metadata": {
        "id": "dchbtPKLUD4p"
      },
      "source": [
        "#入力値を表すデータ\n",
        "#入力X、入力Y\n",
        "learn_data = [ [0,0],[1,0],[0,1],[1,1] ]\n",
        "#XとYのAND結果\n",
        "learn_label = [ 0,0,0,1 ]"
      ],
      "execution_count": 3,
      "outputs": []
    },
    {
      "cell_type": "markdown",
      "metadata": {
        "id": "urUzrGXcUgf-"
      },
      "source": [
        "##アルゴリズムのインスタンスを生成\n"
      ]
    },
    {
      "cell_type": "code",
      "metadata": {
        "id": "IYXjfEn1Uoyp"
      },
      "source": [
        "#線形SVCのインスタンスを生成\n",
        "clf = LinearSVC()"
      ],
      "execution_count": 4,
      "outputs": []
    },
    {
      "cell_type": "markdown",
      "metadata": {
        "id": "WsExfrVGU3qu"
      },
      "source": [
        "##モデルに学習させる（fitメソッド）\n"
      ]
    },
    {
      "cell_type": "code",
      "metadata": {
        "id": "MkMsuQtCU91X",
        "outputId": "ea81af6f-a60e-4cd4-a39a-9ba9106fea24",
        "colab": {
          "base_uri": "https://localhost:8080/",
          "height": 85
        }
      },
      "source": [
        "clf.fit(learn_data, learn_label)"
      ],
      "execution_count": 5,
      "outputs": [
        {
          "output_type": "execute_result",
          "data": {
            "text/plain": [
              "LinearSVC(C=1.0, class_weight=None, dual=True, fit_intercept=True,\n",
              "          intercept_scaling=1, loss='squared_hinge', max_iter=1000,\n",
              "          multi_class='ovr', penalty='l2', random_state=None, tol=0.0001,\n",
              "          verbose=0)"
            ]
          },
          "metadata": {
            "tags": []
          },
          "execution_count": 5
        }
      ]
    },
    {
      "cell_type": "markdown",
      "metadata": {
        "id": "sLy94tsuVKY9"
      },
      "source": [
        "##モデルがちゃんと学習できたか、テストデータで予測させてみる"
      ]
    },
    {
      "cell_type": "code",
      "metadata": {
        "id": "K_9LebAmV3vM",
        "outputId": "a55bceb6-504a-4dd3-cbe7-0a2d3ba46c26",
        "colab": {
          "base_uri": "https://localhost:8080/",
          "height": 68
        }
      },
      "source": [
        "#予測用のデータ（検証用データ）を作る\n",
        "test_data = [ [0,0],[1,0],[0,1],[1,1] ]\n",
        "#モデルにテストデータを回答させる(予測)予測のメソッドはpredict\n",
        "test_label = clf.predict(test_data)\n",
        "print(test_label)\n",
        "#予測結果の評価\n",
        "print(test_data,\"の予測結果：\",test_label)\n",
        "#結果の精度を表示させる\n",
        "print(\"正解率＝\",accuracy_score([0,0,0,1],test_label))\n"
      ],
      "execution_count": 6,
      "outputs": [
        {
          "output_type": "stream",
          "text": [
            "[0 0 0 1]\n",
            "[[0, 0], [1, 0], [0, 1], [1, 1]] の予測結果： [0 0 0 1]\n",
            "正解率＝ 1.0\n"
          ],
          "name": "stdout"
        }
      ]
    },
    {
      "cell_type": "markdown",
      "metadata": {
        "id": "MtmYxBGXWQGF"
      },
      "source": [
        "##XOR演算を実装する"
      ]
    },
    {
      "cell_type": "code",
      "metadata": {
        "id": "OGaYnltRWUBW"
      },
      "source": [
        "#XOR演算を学習するためのデータを用意する\n",
        "#X,Yの準\n",
        "learn_data = [ [0,0],[1,0],[0,1],[1,1] ]\n",
        "#毛科の正解データ（学習ラベル）\n",
        "learn_label = [ 0,1,1,0 ]"
      ],
      "execution_count": 7,
      "outputs": []
    },
    {
      "cell_type": "code",
      "metadata": {
        "id": "-yqVn7MuWUh3",
        "outputId": "a73ebd1d-51fb-4414-d567-3a7d94af9b17",
        "colab": {
          "base_uri": "https://localhost:8080/",
          "height": 85
        }
      },
      "source": [
        "#学習モデルのインスタンスを作る(LinearSVC)\n",
        "clf = LinearSVC()\n",
        "#学習させる\n",
        "clf.fit(learn_data, learn_label)"
      ],
      "execution_count": 8,
      "outputs": [
        {
          "output_type": "execute_result",
          "data": {
            "text/plain": [
              "LinearSVC(C=1.0, class_weight=None, dual=True, fit_intercept=True,\n",
              "          intercept_scaling=1, loss='squared_hinge', max_iter=1000,\n",
              "          multi_class='ovr', penalty='l2', random_state=None, tol=0.0001,\n",
              "          verbose=0)"
            ]
          },
          "metadata": {
            "tags": []
          },
          "execution_count": 8
        }
      ]
    },
    {
      "cell_type": "code",
      "metadata": {
        "id": "RtsDxru0Wp2m"
      },
      "source": [
        "#学習モデルに推論させる\n",
        "test_data = [ [0,0],[1,0],[0,1],[1,1] ]\n",
        "test_label = clf.predict(test_data)"
      ],
      "execution_count": 9,
      "outputs": []
    },
    {
      "cell_type": "code",
      "metadata": {
        "id": "IIlRc9-pWr9X",
        "outputId": "14dfdc50-3053-4f92-9d00-3c4b46e9ae2e",
        "colab": {
          "base_uri": "https://localhost:8080/",
          "height": 51
        }
      },
      "source": [
        "#結果を検証する\n",
        "print(test_data, \"の予測結果\",test_label)\n",
        "print(\"正解率　＝　\" , accuracy_score([ 0,1,1,0 ],test_label))"
      ],
      "execution_count": 10,
      "outputs": [
        {
          "output_type": "stream",
          "text": [
            "[[0, 0], [1, 0], [0, 1], [1, 1]] の予測結果 [0 0 0 0]\n",
            "正解率　＝　 0.5\n"
          ],
          "name": "stdout"
        }
      ]
    },
    {
      "cell_type": "markdown",
      "metadata": {
        "id": "yZg8V2_TW1Fl"
      },
      "source": [
        "##K近傍法でXOR演算を実装する"
      ]
    },
    {
      "cell_type": "code",
      "metadata": {
        "id": "_DVI-3DjW5yd"
      },
      "source": [
        "#K近傍法のアルゴリズムのクラスをimport\n",
        "from sklearn.neighbors import KNeighborsClassifier"
      ],
      "execution_count": 11,
      "outputs": []
    },
    {
      "cell_type": "code",
      "metadata": {
        "id": "CJJn1ikoW-ks"
      },
      "source": [
        "#学習モデルの変数clfをK近傍法アルゴリズムのインスタンスで上書き\n",
        "clf = KNeighborsClassifier(n_neighbors=1)"
      ],
      "execution_count": 12,
      "outputs": []
    },
    {
      "cell_type": "code",
      "metadata": {
        "id": "pcC4r64JXELZ",
        "outputId": "34d3dd59-a1aa-473e-f66f-f83ac050bb4e",
        "colab": {
          "base_uri": "https://localhost:8080/",
          "height": 68
        }
      },
      "source": [
        "#学習用入力データと結果用正解データを使って\n",
        "clf.fit(learn_data,learn_label)"
      ],
      "execution_count": 13,
      "outputs": [
        {
          "output_type": "execute_result",
          "data": {
            "text/plain": [
              "KNeighborsClassifier(algorithm='auto', leaf_size=30, metric='minkowski',\n",
              "                     metric_params=None, n_jobs=None, n_neighbors=1, p=2,\n",
              "                     weights='uniform')"
            ]
          },
          "metadata": {
            "tags": []
          },
          "execution_count": 13
        }
      ]
    },
    {
      "cell_type": "markdown",
      "metadata": {
        "id": "U30jCOQkXPug"
      },
      "source": [
        "##テスト検証用データで推論する"
      ]
    },
    {
      "cell_type": "code",
      "metadata": {
        "id": "58hF-qzTXUWJ",
        "outputId": "923a513d-c0b6-4748-ccef-e96d1131e656",
        "colab": {
          "base_uri": "https://localhost:8080/",
          "height": 51
        }
      },
      "source": [
        "#テスト検証用データと答え合わせ用の正解データ\n",
        "test_label = clf.predict(test_data)\n",
        "\n",
        "#推論結果の評価\n",
        "print(test_data,\"の予測（推論）結果\",test_label)\n",
        "print(\"正解率＝\",accuracy_score([0,1,1,0],test_label))"
      ],
      "execution_count": 14,
      "outputs": [
        {
          "output_type": "stream",
          "text": [
            "[[0, 0], [1, 0], [0, 1], [1, 1]] の予測（推論）結果 [0 1 1 0]\n",
            "正解率＝ 1.0\n"
          ],
          "name": "stdout"
        }
      ]
    }
  ]
}